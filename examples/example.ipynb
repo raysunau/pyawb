{
 "metadata": {
  "language_info": {
   "codemirror_mode": {
    "name": "ipython",
    "version": 3
   },
   "file_extension": ".py",
   "mimetype": "text/x-python",
   "name": "python",
   "nbconvert_exporter": "python",
   "pygments_lexer": "ipython3",
   "version": "3.7.4-final"
  },
  "orig_nbformat": 2,
  "kernelspec": {
   "name": "python3",
   "display_name": "Python 3.7.4 64-bit ('pydatk')",
   "metadata": {
    "interpreter": {
     "hash": "191f923cb66d773162629997b180780ff6671a6d24890c003180089c1fb45d90"
    }
   }
  }
 },
 "nbformat": 4,
 "nbformat_minor": 2,
 "cells": [
  {
   "cell_type": "code",
   "execution_count": 1,
   "metadata": {},
   "outputs": [],
   "source": [
    "import os.path\n",
    "import sys\n",
    "\n",
    "sys.path.append(os.path.abspath(os.path.join(os.path.abspath(''),os.path.pardir)))\n"
   ]
  },
  {
   "source": [
    "from datk.model import ModelTrainer\n",
    "\n",
    "ModelTrainer.create_init_config_file(model_name='RandomForest',target='Survived')\n",
    "\n",
    "\n"
   ],
   "cell_type": "code",
   "metadata": {},
   "execution_count": 9,
   "outputs": [
    {
     "output_type": "stream",
     "name": "stderr",
     "text": [
      "2020-11-23 08:36:58,851:INFO:user selected algorithm = RandomForest\n",
      "2020-11-23 08:36:58,864:INFO:initalizing a default ModelTrainer.yaml in /Users/rsun/projects/code/pydatoolkit/examples/model.yaml\n",
      "2020-11-23 08:36:58,869:INFO:a default igel.yaml is created for you in /Users/rsun/projects/code/pydatoolkit/examples/model.yaml. you just need to overwrite the values to meet your expectations\n"
     ]
    }
   ]
  },
  {
   "cell_type": "code",
   "execution_count": 5,
   "metadata": {},
   "outputs": [
    {
     "output_type": "stream",
     "name": "stderr",
     "text": [
      "2020-11-22 21:42:35,066:INFO:Entered kwargs: {'cmd': 'fit', 'data_path': './train.csv', 'yaml_path': './model.yaml'}\n",
      "2020-11-22 21:42:35,067:INFO:You passed the configurations as a yaml file.\n",
      "2020-11-22 21:42:35,070:INFO:your chosen configuration: {'dataset': {'preprocess': {'missing_values': 'mean', 'scale': {'method': 'standard', 'target': 'inputs'}}, 'split': {'shuffle': True, 'test_size': 0.2}, 'type': 'csv'}, 'model': {'algorithm': 'RandomForest', 'type': 'classification'}, 'target': ['provide your target(s) here']}\n",
      "2020-11-22 21:42:35,070:INFO:dataset_props: {'preprocess': {'missing_values': 'mean', 'scale': {'method': 'standard', 'target': 'inputs'}}, 'split': {'shuffle': True, 'test_size': 0.2}, 'type': 'csv'} \n",
      "model_props: {'algorithm': 'RandomForest', 'type': 'classification'} \n",
      " target: ['provide your target(s) here'] \n",
      "\n",
      "fit model!!\n"
     ]
    }
   ],
   "source": [
    "m = ModelTrainer(cmd='fit',data_path=\"./train.csv\",yaml_path=\"./model.yaml\")\n",
    "\n",
    "\n",
    "\n",
    "\n"
   ]
  },
  {
   "cell_type": "code",
   "execution_count": 6,
   "metadata": {},
   "outputs": [
    {
     "output_type": "execute_result",
     "data": {
      "text/plain": [
       "{'algorithm': 'RandomForest', 'type': 'classification'}"
      ]
     },
     "metadata": {},
     "execution_count": 6
    }
   ],
   "source": [
    "m.model_props\n"
   ]
  },
  {
   "cell_type": "code",
   "execution_count": null,
   "metadata": {},
   "outputs": [],
   "source": []
  }
 ]
}